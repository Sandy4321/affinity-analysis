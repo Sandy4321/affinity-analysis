{
 "cells": [
  {
   "cell_type": "code",
   "execution_count": 9,
   "metadata": {},
   "outputs": [],
   "source": [
    "import numpy as np\n",
    "from itertools import combinations\n",
    "from functools import reduce"
   ]
  },
  {
   "cell_type": "code",
   "execution_count": 16,
   "metadata": {},
   "outputs": [
    {
     "data": {
      "text/plain": [
       "array([list(['Mango', 'Onion', 'Nintendo', 'Key-chain', 'Eggs', 'Yo-yo']),\n",
       "       list(['Doll', 'Onion', 'Nintendo', 'Key-chain', 'Eggs', 'Yo-yo']),\n",
       "       list(['Mango', 'Apple', 'Key-chain', 'Eggs']),\n",
       "       list(['Mango', 'Umbrella', 'Corn', 'Key-chain', 'Yo-yo']),\n",
       "       list(['Corn', 'Onion', 'Onion', 'Key-chain', 'Ice-cream', 'Eggs'])], dtype=object)"
      ]
     },
     "execution_count": 16,
     "metadata": {},
     "output_type": "execute_result"
    }
   ],
   "source": [
    "# Every row is a transaction, and every column represent the item bought\n",
    "# Note that in a single transaction, there can be similar items bought\n",
    "items = np.array([['Mango', 'Onion', 'Nintendo', 'Key-chain', 'Eggs', 'Yo-yo'],\n",
    "                  ['Doll', 'Onion', 'Nintendo', 'Key-chain', 'Eggs', 'Yo-yo'],\n",
    "                  ['Mango', 'Apple', 'Key-chain', 'Eggs'],\n",
    "                  ['Mango', 'Umbrella', 'Corn', 'Key-chain', 'Yo-yo'],\n",
    "                  ['Corn', 'Onion', 'Onion', 'Key-chain', 'Ice-cream', 'Eggs']])\n",
    "\n",
    "# items = np.array([['apple', 'beer', 'rice', 'meat'],\n",
    "#                   ['apple', 'beer', 'rice'],\n",
    "#                   ['apple', 'beer'], \n",
    "#                   ['apple', 'pear'],\n",
    "#                   ['milk', 'beer', 'rice', 'meat'],\n",
    "#                   ['milk', 'beer', 'rice'],\n",
    "#                   ['milk', 'beer'],\n",
    "#                   ['milk', 'pear']])\n",
    "items"
   ]
  },
  {
   "cell_type": "code",
   "execution_count": 11,
   "metadata": {},
   "outputs": [
    {
     "data": {
      "text/plain": [
       "0.0"
      ]
     },
     "execution_count": 11,
     "metadata": {},
     "output_type": "execute_result"
    }
   ],
   "source": [
    "def support(items, transactions):\n",
    "    '''Return the score of the frequency in which an item appears in\n",
    "    the transactions.\n",
    "    Example: If there are 8 transactions, an apple appears 4 times,\n",
    "    the support score will be 4 / 8 = 0.5\n",
    "    \n",
    "    Parameters:\n",
    "    ----------\n",
    "    items: ndarray, [item1, item2]\n",
    "        A list of item in the basket\n",
    "    transactions: ndarray, [[item1, item2], [item1, item2, item2], ...]\n",
    "        A 2-dimensional array that contains an array of items.\n",
    "    \n",
    "    Returns:\n",
    "    --------\n",
    "    score: int\n",
    "        The support score\n",
    "    '''\n",
    "    itemset = []\n",
    "    for transaction in transactions:\n",
    "        if all([True if item in transaction else False \n",
    "                for item in items]):\n",
    "            itemset.append(1)\n",
    "    return len(itemset) / len(transactions)\n",
    "\n",
    "support(['apple'], items)"
   ]
  },
  {
   "cell_type": "code",
   "execution_count": 12,
   "metadata": {},
   "outputs": [],
   "source": [
    "def confidence(X, y, transactions):\n",
    "    '''Tells how likely item y is purchased if item X is purchased.\n",
    "    This is measured by the proportion of transaction with item X, \n",
    "    in which item y also appears.'''\n",
    "    num = support([X, y], transactions)\n",
    "    den = support([X], transactions)\n",
    "    if den == 0:\n",
    "         return 0\n",
    "    return num / den\n",
    "\n",
    "# confidence('apple', 'beer', items)    "
   ]
  },
  {
   "cell_type": "code",
   "execution_count": 13,
   "metadata": {},
   "outputs": [],
   "source": [
    "def lift(X, y, transactions):\n",
    "    '''This says how likely item y is purchased when item X is purchased, while controlling how \n",
    "    popular item Y is. A value greater than 1 implies that item y is likely to be bought if item X\n",
    "    is bought, while a value less than 1 means item y is unlikely to be bought if item X is bought'''\n",
    "    num = support([X, y], transactions)\n",
    "    den_X = support([X], transactions)\n",
    "    den_y = support([y], transactions)\n",
    "    den = den_X * den_y\n",
    "    if den == 0:\n",
    "        return 0\n",
    "    return num / den\n",
    "\n",
    "# lift('apple', 'beer', items)"
   ]
  },
  {
   "cell_type": "code",
   "execution_count": 14,
   "metadata": {},
   "outputs": [],
   "source": [
    "def first(tuples):\n",
    "    return [k for (k, v) in tuples]\n",
    "\n",
    "def second(tuples):\n",
    "    return [v for (k, v) in tuples]\n",
    "\n",
    "def array_2d(array_1d):\n",
    "    return np.reshape(array_1d, (-1, 1)).tolist()\n",
    "\n",
    "def flatten(array_2d):\n",
    "    return reduce(lambda x, y: x + y, items)\n",
    "\n",
    "def unique(array):\n",
    "    return list(set(array))\n",
    "\n",
    "def support_scores(items, transactions):\n",
    "    return [(item, support(item, transactions)) for item in items]"
   ]
  },
  {
   "cell_type": "code",
   "execution_count": 15,
   "metadata": {},
   "outputs": [
    {
     "name": "stdout",
     "output_type": "stream",
     "text": [
      "If you buy Yo-yo, Nintendo, Key-chain, you might like Onion.\n",
      "- Score: 0.4\n",
      "\n",
      "If you buy Yo-yo, Nintendo, Eggs, you might like Onion.\n",
      "- Score: 0.4\n",
      "\n",
      "If you buy Yo-yo, Nintendo, Onion, you might like Eggs.\n",
      "- Score: 0.4\n",
      "\n",
      "If you buy Yo-yo, Eggs, Key-chain, you might like Onion.\n",
      "- Score: 0.4\n",
      "\n",
      "If you buy Yo-yo, Onion, Key-chain, you might like Eggs.\n",
      "- Score: 0.4\n",
      "\n",
      "If you buy Yo-yo, Eggs, Onion, you might like Nintendo.\n",
      "- Score: 0.4\n",
      "\n",
      "If you buy Key-chain, Nintendo, Eggs, you might like Onion.\n",
      "- Score: 0.4\n",
      "\n",
      "If you buy Key-chain, Nintendo, Onion, you might like Eggs.\n",
      "- Score: 0.4\n",
      "\n",
      "If you buy Nintendo, Onion, Eggs, you might like Key-chain.\n",
      "- Score: 0.4\n",
      "\n",
      "If you buy Key-chain, Eggs, Onion, you might like Nintendo.\n",
      "- Score: 0.4\n",
      "\n",
      "If you buy Yo-yo, Nintendo, Eggs, Key-chain, you might like Onion.\n",
      "- Score: 0.4\n",
      "\n",
      "If you buy Yo-yo, Nintendo, Onion, Key-chain, you might like Eggs.\n",
      "- Score: 0.4\n",
      "\n",
      "If you buy Yo-yo, Nintendo, Onion, Eggs, you might like Key-chain.\n",
      "- Score: 0.4\n",
      "\n",
      "If you buy Yo-yo, Eggs, Onion, Key-chain, you might like Nintendo.\n",
      "- Score: 0.4\n",
      "\n",
      "If you buy Key-chain, Nintendo, Onion, Eggs, you might like Yo-yo.\n",
      "- Score: 0.4\n",
      "\n"
     ]
    }
   ],
   "source": [
    "def apriori(items, min_score = 0.25, min_items = 3, epochs = 10):\n",
    "    out = {}\n",
    "    rec = {}\n",
    "\n",
    "    # Initialize the default values\n",
    "    single_items = array_2d(unique(flatten(items)))\n",
    "    single_items_scores = support_scores(single_items, items)\n",
    "    single_items_scores = [(i, score) for (i, score) in single_items_scores \n",
    "                           if score > min_score]\n",
    "    out[1] = single_items_scores\n",
    "    \n",
    "    for i in range(2, epochs):\n",
    "        if out.get(i - 1) is None:\n",
    "            break\n",
    "        unique_items = first(out[i - 1])\n",
    "        \n",
    "        if isinstance(unique_items, list):\n",
    "            if isinstance(unique_items[0], list):\n",
    "                unique_items = unique(flatten(unique_items))\n",
    "        \n",
    "        # Create a combination of itemsets\n",
    "        itemsets = list(combinations(unique_items, r = i))\n",
    "        scores = support_scores(itemsets, items)\n",
    "        scores_min = [(list(item), score) for (item, score) in scores \n",
    "                      if score >= min_score]\n",
    "        \n",
    "        if len(scores_min) == 0:\n",
    "            break\n",
    "        out[i] = scores_min\n",
    "        \n",
    "        # Only calculate recommendations if user has more than 1 items\n",
    "        if i > min_items:\n",
    "            tmp = []\n",
    "            previous_scores = out[i - 1]\n",
    "            for j, _ in scores_min:\n",
    "                # Contains a larger subset\n",
    "                j_fs = frozenset(j)\n",
    "                \n",
    "                for k, _ in previous_scores:\n",
    "                    # Handle array\n",
    "                    k_fs = frozenset(k)\n",
    "                    \n",
    "                    # Find the difference in items, that would be the recommendations\n",
    "                    recommendations = list(j_fs.difference(k_fs))\n",
    "                    \n",
    "                    # What if there are more than 1 recommendations?\n",
    "                    for recommendation in recommendations:\n",
    "                        # For each of the recommendations, create a new itemset\n",
    "                        new_recs = k_fs.union(frozenset([recommendation]))\n",
    "                        tmp.append((k, new_recs, recommendation))\n",
    "\n",
    "            for bought_items, current_basket, recommendation in tmp:\n",
    "                for target_basket, score in scores_min:\n",
    "                    if current_basket == frozenset(target_basket):\n",
    "                        rec[frozenset(bought_items)] = (recommendation, score)\n",
    "    return rec\n",
    "\n",
    "    \n",
    "scores = apriori(items, 0.25)\n",
    "for i in scores:\n",
    "    purchased_items = ', '.join(list(i))\n",
    "    recommended_items, score = scores[i]\n",
    "    print('If you buy {}, you might like {}.'.format(purchased_items, recommended_items))\n",
    "    print('- Score: {}'.format(score))\n",
    "    print()\n",
    "# Prediction\n",
    "# item, score = scores[frozenset(['Onion', 'Yo-yo', 'Key-chain'])]\n",
    "# print('If you purchase Onion and Yo-yo, you might like {}. Score = {}'.format(item, score))"
   ]
  }
 ],
 "metadata": {
  "kernelspec": {
   "display_name": "Python 3",
   "language": "python",
   "name": "python3"
  },
  "language_info": {
   "codemirror_mode": {
    "name": "ipython",
    "version": 3
   },
   "file_extension": ".py",
   "mimetype": "text/x-python",
   "name": "python",
   "nbconvert_exporter": "python",
   "pygments_lexer": "ipython3",
   "version": "3.6.4"
  }
 },
 "nbformat": 4,
 "nbformat_minor": 2
}
